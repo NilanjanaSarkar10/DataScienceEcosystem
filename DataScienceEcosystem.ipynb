{
 "cells": [
  {
   "cell_type": "markdown",
   "id": "949bf48c",
   "metadata": {},
   "source": [
    "# Data science tools and ecosystem"
   ]
  },
  {
   "cell_type": "markdown",
   "id": "b63d4a2d",
   "metadata": {},
   "source": [
    "In this Notebook, Data Science Tools and Ecosystem are summarized"
   ]
  },
  {
   "cell_type": "markdown",
   "id": "9d89436f",
   "metadata": {},
   "source": [
    "Some of the popular languages that Data Scientists use are:\n",
    "\n",
    "1. Python\n",
    "\n",
    "2. R\n",
    "\n",
    "3. Scala\n",
    "\n",
    "4. Julia\n",
    "\n",
    "5. SQL\n",
    "\n",
    "6. Java\n",
    "etc."
   ]
  },
  {
   "cell_type": "markdown",
   "id": "b4f7493a",
   "metadata": {},
   "source": [
    "Some of the commonly used libraries used by Data Scientists include:\n",
    "\n",
    "1. TensorFlow.\n",
    "\n",
    "2. NumPy.\n",
    "\n",
    "3. Matplotlib.\n",
    "\n",
    "4. Seaborn.\n",
    "\n",
    "5. Scikit-learn.\n",
    "\n",
    "6. Pytorch.\n",
    "\n",
    "7. Keras.\n",
    "\n",
    "8. Pandas.\n",
    "\n",
    "etc\n"
   ]
  },
  {
   "cell_type": "markdown",
   "id": "77032887",
   "metadata": {},
   "source": [
    "|Data Science Tools|\n",
    "|---|\n",
    "|Jupyter Notebook|\n",
    "|RStudio|\n",
    "|Spyder|"
   ]
  },
  {
   "cell_type": "markdown",
   "id": "3cf0bf01",
   "metadata": {},
   "source": [
    "### Here you can see a few examples of evaluating arithmetic expressions in Python"
   ]
  },
  {
   "cell_type": "code",
   "execution_count": null,
   "id": "ebe01400",
   "metadata": {},
   "outputs": [],
   "source": [
    "# This is a simple arithmetic expression that involves multiplying integers and then adding the result."
   ]
  },
  {
   "cell_type": "code",
   "execution_count": 5,
   "id": "330720a2",
   "metadata": {},
   "outputs": [
    {
     "data": {
      "text/plain": [
       "17"
      ]
     },
     "execution_count": 5,
     "metadata": {},
     "output_type": "execute_result"
    }
   ],
   "source": [
    "(3*4)+5\n"
   ]
  },
  {
   "cell_type": "code",
   "execution_count": null,
   "id": "9c4d3a39",
   "metadata": {},
   "outputs": [],
   "source": [
    "# The following code will convert 200 minutes to hours by diving by 60"
   ]
  },
  {
   "cell_type": "code",
   "execution_count": 6,
   "id": "d4e45819",
   "metadata": {},
   "outputs": [
    {
     "data": {
      "text/plain": [
       "3.3333333333333335"
      ]
     },
     "execution_count": 6,
     "metadata": {},
     "output_type": "execute_result"
    }
   ],
   "source": [
    "200/60"
   ]
  },
  {
   "cell_type": "markdown",
   "id": "c9bbff79",
   "metadata": {},
   "source": [
    "__Objectives__\n",
    "\n",
    "* List Data Science tools;\n",
    "* Write down Data Science libraries\n",
    "* Enumerate Data Science languages\n",
    "* Exemplify arithmetic expressions"
   ]
  },
  {
   "cell_type": "markdown",
   "id": "61ba522b",
   "metadata": {},
   "source": [
    "## Author\n",
    "\n",
    "Nilanjana Sarkar"
   ]
  }
 ],
 "metadata": {
  "kernelspec": {
   "display_name": "Python 3 (ipykernel)",
   "language": "python",
   "name": "python3"
  },
  "language_info": {
   "codemirror_mode": {
    "name": "ipython",
    "version": 3
   },
   "file_extension": ".py",
   "mimetype": "text/x-python",
   "name": "python",
   "nbconvert_exporter": "python",
   "pygments_lexer": "ipython3",
   "version": "3.9.13"
  }
 },
 "nbformat": 4,
 "nbformat_minor": 5
}
